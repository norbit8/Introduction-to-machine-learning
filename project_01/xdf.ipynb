{
 "cells": [
  {
   "cell_type": "code",
   "execution_count": null,
   "outputs": [],
   "source": [
    "import numpy as np\n",
    "from plotnine import *\n",
    "from sklearn.linear_model import LinearRegression\n",
    "from pandas import DataFrame\n",
    "\n",
    "def main():\n",
    "    X = np.arange(1,101).reshape((100,1))\n",
    "    y = np.dot(X, [7]) + 3\n",
    "    reg = LinearRegression().fit(X, y)\n",
    "    coef = np.round(reg.coef_[0])\n",
    "    print(\"The coefficient is \"+str(coef))\n",
    "    g = ggplot(DataFrame({'X':X.reshape(100),'y':y.reshape(100)})) + \\\n",
    "        geom_line(aes(x='X', y='y'), color=\"blue\", size=0.8) + \\\n",
    "        ggtitle(\"f(X) = 7X + 3\")\n",
    "    print(g)\n",
    "\n",
    "\n",
    "    # np.random.seed(0)  # seed for reproducibility\n",
    "    # x1 = np.random.randint(10, size=6)  # One-dimensional array\n",
    "    # x2 = np.random.randint(low=10, size=(3, 4))  # Two-dimensional array\n",
    "    # x3 = np.random.randint(10, size=(3, 4, 5))  # Three-dimensional array\n",
    "    # print(np.array([[1, 2, 3], [4, 5, 6]]), \"\\n --------\\n\" ,np.array([[1, 2], [4, 5], [6, 7]]))\n",
    "    # print('-----------------')\n",
    "    # print(np.matmul(np.array([[1, 2, 3], [4, 5, 6]]), np.array([[1, 2], [4, 5], [6, 7]])))\n",
    "\n",
    "if __name__ == \"__main__\":\n",
    "    main()\n"
   ],
   "metadata": {
    "collapsed": false,
    "pycharm": {
     "name": "#%%\n",
     "is_executing": true
    }
   }
  }
 ],
 "metadata": {
  "kernelspec": {
   "display_name": "Python 3",
   "language": "python",
   "name": "python3"
  },
  "language_info": {
   "codemirror_mode": {
    "name": "ipython",
    "version": 2
   },
   "file_extension": ".py",
   "mimetype": "text/x-python",
   "name": "python",
   "nbconvert_exporter": "python",
   "pygments_lexer": "ipython2",
   "version": "2.7.6"
  },
  "pycharm": {
   "stem_cell": {
    "cell_type": "raw",
    "source": [],
    "metadata": {
     "collapsed": false
    }
   }
  }
 },
 "nbformat": 4,
 "nbformat_minor": 0
}